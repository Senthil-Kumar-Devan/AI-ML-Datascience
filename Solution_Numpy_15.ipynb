{
 "cells": [
  {
   "cell_type": "markdown",
   "metadata": {},
   "source": [
    "# Exercise 1: NumPy: Create an array with values ranging from 50 to 100"
   ]
  },
  {
   "cell_type": "code",
   "execution_count": 18,
   "metadata": {},
   "outputs": [
    {
     "name": "stdout",
     "output_type": "stream",
     "text": [
      "[ 50  51  52  53  54  55  56  57  58  59  60  61  62  63  64  65  66  67\n",
      "  68  69  70  71  72  73  74  75  76  77  78  79  80  81  82  83  84  85\n",
      "  86  87  88  89  90  91  92  93  94  95  96  97  98  99 100]\n"
     ]
    }
   ],
   "source": [
    "import numpy as np\n",
    "import sys\n",
    "\n",
    "#create Numpy array using arange from 50 to 100\n",
    "NumP = np.arange(50,101)\n",
    "print(NumP)\n"
   ]
  },
  {
   "cell_type": "markdown",
   "metadata": {},
   "source": [
    "# Exercise 2: Add a border around an existing array\n",
    "Hint: np.pad()"
   ]
  },
  {
   "cell_type": "code",
   "execution_count": 62,
   "metadata": {},
   "outputs": [
    {
     "name": "stdout",
     "output_type": "stream",
     "text": [
      "Original array: \n",
      "[[1. 1. 1.]\n",
      " [1. 1. 1.]\n",
      " [1. 1. 1.]]\n",
      "0 on the border and 1 inside in the array : \n",
      "[[0. 0. 0. 0. 0.]\n",
      " [0. 1. 1. 1. 0.]\n",
      " [0. 1. 1. 1. 0.]\n",
      " [0. 1. 1. 1. 0.]\n",
      " [0. 0. 0. 0. 0.]]\n"
     ]
    }
   ],
   "source": [
    "## Use Padding around the existing array NumP\n",
    "#Signature: np.ones(shape, dtype=None, order='C')\n",
    "#Signature: np.pad(array, pad_width, mode='constant', **kwargs)\n",
    "\n",
    "#Create 3*3 ones NumPy Array\n",
    "Org_nparray = np.ones(shape=(3,3), dtype=None,order='F')\n",
    "\n",
    "#print\n",
    "print(\"Original array: \")\n",
    "print(Org_nparray)\n",
    "\n",
    "#Padding around the Array\n",
    "np_pad = np.pad(Org_nparray, pad_width=1)\n",
    "\n",
    "#print\n",
    "print(\"0 on the border and 1 inside in the array : \")\n",
    "print(np_pad)"
   ]
  },
  {
   "cell_type": "markdown",
   "metadata": {},
   "source": [
    "# Exercise 3: Convert a list and tuple into arrays"
   ]
  },
  {
   "cell_type": "code",
   "execution_count": 97,
   "metadata": {},
   "outputs": [
    {
     "name": "stdout",
     "output_type": "stream",
     "text": [
      "List to Array:\n",
      " [1 2 3 4 5 6 7 8]\n",
      "\n",
      "Tuple to Array: \n",
      " [[1 2 3 4]\n",
      " [5 6 7 8]]\n",
      "\n",
      "List to Array: \n",
      " [1 2 3 4 5 6 7 8]\n",
      "\n",
      "Tuple to Array: \n",
      " [[1 2 3 4]\n",
      " [5 6 7 8]]\n"
     ]
    }
   ],
   "source": [
    "#original List/ Tuple\n",
    "orig_list = [1,2,3,4,5,6,7,8]\n",
    "orig_tuple = ((1,2,3,4),(5,6,7,8))\n",
    "\n",
    "#Convert list to array\n",
    "print(\"List to Array:\\n\",np.array(orig_list))\n",
    "\n",
    "#Convert tuple to array\n",
    "print(\"\\nTuple to Array: \\n\",np.array(orig_tuple))\n",
    "\n",
    "#Use np.asarray to convert to numpy ndarray\n",
    "#Signature: np.asarray(a, dtype=None, order=None)\n",
    "print(\"\\nList to Array:\", \"\\n\",np.asarray(orig_list))\n",
    "print(\"\\nTuple to Array:\", \"\\n\",np.asarray(orig_tuple))"
   ]
  },
  {
   "cell_type": "markdown",
   "metadata": {},
   "source": [
    "# Exercise 4: Convert the values of Centigrade degrees into Fahrenheit degrees\n",
    "Values in Fahrenheit degrees:\n",
    "[ 0.   12.   45.21 34.   99.91]"
   ]
  },
  {
   "cell_type": "code",
   "execution_count": 105,
   "metadata": {},
   "outputs": [
    {
     "name": "stdout",
     "output_type": "stream",
     "text": [
      "Values in Fahrenheit degrees: \n",
      " [ 0.   12.   45.21 34.   99.91]\n",
      "\n",
      "Values in  Centigrade degrees: \n",
      " [-17.77777778 -11.11111111   7.33888889   1.11111111  37.72777778]\n"
     ]
    }
   ],
   "source": [
    "Fahrenheit_Array = np.array([0., 12., 45.21, 34., 99.91])\n",
    "\n",
    "#°C = (°F - 32)/1.8\n",
    "Centigrade_Array = (Fahrenheit_Array - 32)/ 1.8\n",
    "print(\"Values in Fahrenheit degrees: \\n\", Fahrenheit_Array)\n",
    "print(\"\\nValues in  Centigrade degrees: \\n\", Centigrade_Array)"
   ]
  },
  {
   "cell_type": "markdown",
   "metadata": {},
   "source": [
    "# Exercise 5: Write a NumPy program to find the number of elements of an array, length of one array element in bytes and total bytes consumed by the elements."
   ]
  },
  {
   "cell_type": "code",
   "execution_count": 61,
   "metadata": {},
   "outputs": [
    {
     "name": "stdout",
     "output_type": "stream",
     "text": [
      "Size:  6\n",
      "length:  3\n",
      "memory size of  1st array:  8\n",
      "4\n",
      "2\n"
     ]
    }
   ],
   "source": [
    "Nmpy_array = np.array([[1,1],[2,2],[3,3]])\n",
    "Nmpy_size = np.size(Nmpy_array)\n",
    "print(\"Size: \", Nmpy_size)\n",
    "print(\"length: \", len(Nmpy_array))\n",
    "print(\"memory size of  1st array: \",Nmpy_array[0].size*Nmpy_array[0].itemsize)\n",
    "print(np.byte(Nmpy_array[0].itemsize))\n",
    "print(Nmpy_array[0].size)"
   ]
  },
  {
   "cell_type": "markdown",
   "metadata": {},
   "source": [
    "# Exercise 6: Get the unique elements of an array"
   ]
  },
  {
   "cell_type": "code",
   "execution_count": 78,
   "metadata": {},
   "outputs": [
    {
     "name": "stdout",
     "output_type": "stream",
     "text": [
      "Original array:  [10, 10, 20, 20, 30, 30]\n",
      "Unique elements of the above array:  \n",
      " [10 20 30]\n",
      "\n",
      "Original array:  [[1, 1], [2, 3]]\n",
      "Unique elements of the above array:  \n",
      " [1 2 3]\n"
     ]
    }
   ],
   "source": [
    "#Original array:\n",
    "Orig_array_1 = [10, 10, 20, 20, 30, 30]\n",
    "Orig_array_2 = [[1, 1],[2, 3]]\n",
    "\n",
    "#Typecast to Numpy array\n",
    "uni_array_1 = np.array(Orig_array_1)\n",
    "uni_array_2 = np.array(Orig_array_2)\n",
    "\n",
    "print(\"Original array: \", Orig_array_1)\n",
    "\n",
    "#Get Unique elements in the array\n",
    "print(\"Unique elements of the above array: \",\"\\n\",np.unique(uni_array_1))\n",
    "\n",
    "print(\"\\nOriginal array: \", Orig_array_2)\n",
    "\n",
    "#Get Unique elements in the array\n",
    "print(\"Unique elements of the above array: \",\"\\n\",np.unique(uni_array_2))"
   ]
  },
  {
   "cell_type": "markdown",
   "metadata": {},
   "source": [
    "# Exercise 7: Change the dimension of an array\n",
    "Original array: [1 2 3 4 5 6 7 8 9]\n",
    "Change array shape to (3, 3) -> 3 rows and 3 columns"
   ]
  },
  {
   "cell_type": "code",
   "execution_count": 87,
   "metadata": {},
   "outputs": [
    {
     "name": "stdout",
     "output_type": "stream",
     "text": [
      "Original array: \n",
      " [1 2 3 4 5 6 7 8 9]\n",
      "Change array shape to (3, 3) -> 3 rows and 3 columns \n",
      " [[1 2 3]\n",
      " [4 5 6]\n",
      " [7 8 9]]\n"
     ]
    }
   ],
   "source": [
    "#Original Array\n",
    "Orig_array_dim = [1,2,3,4,5,6,7,8,9]\n",
    "#to Numpy array\n",
    "Nmpy_array_dim = np.array(Orig_array_dim)\n",
    "print(\"Original array: \\n\",Nmpy_array_dim)\n",
    "\n",
    "print(\"Change array shape to (3, 3) -> 3 rows and 3 columns \\n\",Nmpy_array_dim.reshape(3,3))\n",
    "\n"
   ]
  },
  {
   "cell_type": "markdown",
   "metadata": {},
   "source": [
    "# Exercise 8: Create a 1-D array of 30 evenly spaced elements between 2.5. and 6.5, inclusive"
   ]
  },
  {
   "cell_type": "code",
   "execution_count": 106,
   "metadata": {},
   "outputs": [
    {
     "name": "stdout",
     "output_type": "stream",
     "text": [
      "1-D array of 30 evenly spaced elements between 2.5. and 6.5: \n",
      "\n",
      " [2.5        2.63793103 2.77586207 2.9137931  3.05172414 3.18965517\n",
      " 3.32758621 3.46551724 3.60344828 3.74137931 3.87931034 4.01724138\n",
      " 4.15517241 4.29310345 4.43103448 4.56896552 4.70689655 4.84482759\n",
      " 4.98275862 5.12068966 5.25862069 5.39655172 5.53448276 5.67241379\n",
      " 5.81034483 5.94827586 6.0862069  6.22413793 6.36206897 6.5       ]\n"
     ]
    }
   ],
   "source": [
    "\"\"\"\n",
    "Signature:\n",
    "np.linspace(\n",
    "    start,\n",
    "    stop,\n",
    "    num=50,\n",
    "    endpoint=True,\n",
    "    retstep=False,\n",
    "    dtype=None,\n",
    "    axis=0,\n",
    ")\n",
    "Docstring:\n",
    "Return evenly spaced numbers over a specified interval.\n",
    "\"\"\"\n",
    "\n",
    "#Linspace used to create array\n",
    "oneDarray = np.linspace(2.5,6.5,num=30)\n",
    "print(\"1-D array of 30 evenly spaced elements between 2.5. and 6.5: \\n\\n\", oneDarray)"
   ]
  },
  {
   "cell_type": "markdown",
   "metadata": {},
   "source": [
    "# Exercise 9: Convert 1-D arrays as columns into a 2-D array\n",
    "Array1: [10 20 30]\n",
    "Array2: [40 50 60]\n",
    "Converted array\n",
    "[[10 40]\n",
    " [20 50]\n",
    " [30 60]]"
   ]
  },
  {
   "cell_type": "code",
   "execution_count": 136,
   "metadata": {},
   "outputs": [
    {
     "name": "stdout",
     "output_type": "stream",
     "text": [
      "Array1: \n",
      " [10 20 30]\n",
      "Array2: \n",
      " [40 50 60]\n",
      "\n",
      "Converted array \n",
      " [[10 40]\n",
      " [20 50]\n",
      " [30 60]]\n"
     ]
    }
   ],
   "source": [
    "array_1 = [10,20,30]\n",
    "array_2 = [40,50,60]\n",
    "npy_array_1 = np.array(array_1)\n",
    "print(\"Array1: \\n\", npy_array_1)\n",
    "npy_array_2 = np.array(array_2)\n",
    "print(\"Array2: \\n\", npy_array_2)\n",
    "print(\"\\nConverted array \\n\",np.stack((npy_array_1,npy_array_2), axis=1))"
   ]
  },
  {
   "cell_type": "markdown",
   "metadata": {},
   "source": [
    "# Exercise 10: Create a 5x5 matrix with row values ranging from 0 to 4"
   ]
  },
  {
   "cell_type": "code",
   "execution_count": 157,
   "metadata": {},
   "outputs": [
    {
     "name": "stdout",
     "output_type": "stream",
     "text": [
      "Original array:\n",
      " [[0. 0. 0. 0. 0.]\n",
      " [0. 0. 0. 0. 0.]\n",
      " [0. 0. 0. 0. 0.]\n",
      " [0. 0. 0. 0. 0.]\n",
      " [0. 0. 0. 0. 0.]]\n",
      "\n",
      "Row values ranging from 0 to 4.\n",
      " [[0. 1. 2. 3. 4.]\n",
      " [0. 1. 2. 3. 4.]\n",
      " [0. 1. 2. 3. 4.]\n",
      " [0. 1. 2. 3. 4.]\n",
      " [0. 1. 2. 3. 4.]]\n"
     ]
    }
   ],
   "source": [
    "\"\"\"Original array:\n",
    "[[0. 0. 0. 0. 0.]\n",
    " [0. 0. 0. 0. 0.]\n",
    " [0. 0. 0. 0. 0.]\n",
    " [0. 0. 0. 0. 0.]\n",
    " [0. 0. 0. 0. 0.]]\n",
    "Row values ranging from 0 to 4.\n",
    "[[0. 1. 2. 3. 4.]\n",
    " [0. 1. 2. 3. 4.]\n",
    " [0. 1. 2. 3. 4.]\n",
    " [0. 1. 2. 3. 4.]\n",
    " [0. 1. 2. 3. 4.]]\n",
    "\"\"\"\n",
    "\n",
    "Orig_Zeroes_Array = np.zeros((5,5))\n",
    "\n",
    "print(\"Original array:\\n\", Orig_Zeroes_Array)\n",
    "\n",
    "Orig_Zeroes_Array = Orig_Zeroes_Array + np.arange(5)\n",
    "print(\"\\nRow values ranging from 0 to 4.\\n\",Orig_Zeroes_Array)"
   ]
  },
  {
   "cell_type": "markdown",
   "metadata": {},
   "source": [
    "# Exercise 11: Sum of all the multiples of 3 or 5 below 100"
   ]
  },
  {
   "cell_type": "code",
   "execution_count": 173,
   "metadata": {},
   "outputs": [
    {
     "name": "stdout",
     "output_type": "stream",
     "text": [
      "Numpy array in range 1 to 100: \n",
      " [ 1  2  3  4  5  6  7  8  9 10 11 12 13 14 15 16 17 18 19 20 21 22 23 24\n",
      " 25 26 27 28 29 30 31 32 33 34 35 36 37 38 39 40 41 42 43 44 45 46 47 48\n",
      " 49 50 51 52 53 54 55 56 57 58 59 60 61 62 63 64 65 66 67 68 69 70 71 72\n",
      " 73 74 75 76 77 78 79 80 81 82 83 84 85 86 87 88 89 90 91 92 93 94 95 96\n",
      " 97 98 99]\n",
      "\n",
      "Array with multiples of 3 or 5 below 100: \n",
      " [ 3  5  6  9 10 12 15 18 20 21 24 25 27 30 33 35 36 39 40 42 45 48 50 51\n",
      " 54 55 57 60 63 65 66 69 70 72 75 78 80 81 84 85 87 90 93 95 96 99]\n",
      "\n",
      "Sum of all the multiples of 3 or 5 below 100:  2318\n"
     ]
    }
   ],
   "source": [
    "#Create array in range 1 to 100\n",
    "nmpy_rnge_array = np.arange(1,100)\n",
    "#print rage array\n",
    "print(\"Numpy array in range 1 to 100: \\n\",nmpy_rnge_array)\n",
    "\n",
    "#Have only Mulitples of 3 or 5 in the created array\n",
    "mult_3_5_array = nmpy_rnge_array[(nmpy_rnge_array%3 ==0)|(nmpy_rnge_array%5==0)]\n",
    "print(\"\\nArray with multiples of 3 or 5 below 100: \\n\",mult_3_5_array)\n",
    "\n",
    "print(\"\\nSum of all the multiples of 3 or 5 below 100: \",sum(mult_3_5_array))"
   ]
  },
  {
   "cell_type": "markdown",
   "metadata": {},
   "source": [
    "# Exercise 12: Combine a one and a two dimensional array together and display their elements"
   ]
  },
  {
   "cell_type": "code",
   "execution_count": 210,
   "metadata": {},
   "outputs": [
    {
     "name": "stdout",
     "output_type": "stream",
     "text": [
      "One dimensional array:\n",
      "[0 1 2 3] \n",
      "\n",
      "Two dimensional array:\n",
      "[[0 1 2 3]\n",
      " [4 5 6 7]] \n",
      "\n",
      "Combined one and two dimensional array:\n",
      "0:0\n",
      "1:1\n",
      "2:2\n",
      "3:3\n",
      "0:4\n",
      "1:5\n",
      "2:6\n",
      "3:7\n"
     ]
    }
   ],
   "source": [
    "#create One Dimensiona Array\n",
    "oneDArray = np.arange(0,4)\n",
    "\n",
    "#create Two Dimensional Array\n",
    "twoDArray = np.arange(0,8).reshape(2,4)\n",
    "\n",
    "print(\"One dimensional array:\\n{}\".format(oneDArray),\"\\n\")\n",
    "print(\"Two dimensional array:\\n{}\".format(twoDArray),\"\\n\")\n",
    "\n",
    "#Combine one and a two dimensional array already created\n",
    "print(\"Combined one and two dimensional array:\")\n",
    "for x, y in np.nditer([oneDArray,twoDArray]):\n",
    "    print(\"{}:{}\".format(x,y))   \n",
    "    #print(\"%d:%d\" % (x,y))"
   ]
  },
  {
   "cell_type": "markdown",
   "metadata": {},
   "source": [
    "# Exercise 13: Write a NumPy program to replace all elements of NumPy array that are greater than specified array"
   ]
  },
  {
   "cell_type": "code",
   "execution_count": 221,
   "metadata": {},
   "outputs": [
    {
     "name": "stdout",
     "output_type": "stream",
     "text": [
      "Original array:\n",
      "[[0.42436315 0.48558583 0.32924763]\n",
      " [0.7439979  0.58220701 0.38213418]\n",
      " [0.5097581  0.34528799 0.1563123 ]]\n",
      "\n",
      "Replace all elements of the said array with .5 which are greater than .5:\n",
      "[[0.42436315 0.48558583 0.32924763]\n",
      " [0.5        0.5        0.38213418]\n",
      " [0.5        0.34528799 0.1563123 ]]\n"
     ]
    }
   ],
   "source": [
    "#Create an Numpy array\n",
    "orig_nmpy_array = np.array([[0.42436315, 0.48558583, 0.32924763],\n",
    " [0.7439979,  0.58220701, 0.38213418],\n",
    " [0.5097581,  0.34528799, 0.1563123 ]])\n",
    "\n",
    "print(\"Original array:\\n{}\".format(orig_nmpy_array))\n",
    "\n",
    "#Replace all elements of the said array with .5 which are greater than .5\n",
    "orig_nmpy_array[orig_nmpy_array >.5]=0.5\n",
    "print(\"\\nReplace all elements of the said array with .5 which are greater than .5:\\n{}\".format(orig_nmpy_array))\n",
    "\n"
   ]
  },
  {
   "cell_type": "markdown",
   "metadata": {},
   "source": [
    "# Exercise 14: Add a new row to an empty numpy array"
   ]
  },
  {
   "cell_type": "code",
   "execution_count": 264,
   "metadata": {},
   "outputs": [
    {
     "name": "stdout",
     "output_type": "stream",
     "text": [
      "Empty Array:\n",
      "[]\n",
      "\n",
      "Adding new rows to empty numpy array:\n",
      "[[1 2 3]\n",
      " [4 5 6]]\n"
     ]
    }
   ],
   "source": [
    "#Create an empty array\n",
    "#Docstring: empty(shape, dtype=float, order='C')\n",
    "empty_numpy_array = np.empty((0,3),int)\n",
    "\n",
    "print(\"Empty Array:\\n{}\".format(empty_numpy_array))\n",
    "\n",
    "#Create new 2 dimension arrays to be added\n",
    "arr1=np.array([[1,2,3]])\n",
    "arr2=np.array([[4,5,6]])\n",
    "\n",
    "#Signature: np.append(arr, values, axis=None)\n",
    "empty_numpy_array = np.append(empty_numpy_array, arr1, axis=0)\n",
    "empty_numpy_array = np.append(empty_numpy_array, arr2, axis=0)\n",
    "\n",
    "print(\"\\nAdding new rows to empty numpy array:\\n{}\".format(empty_numpy_array))"
   ]
  },
  {
   "cell_type": "markdown",
   "metadata": {},
   "source": [
    "# Exercise 15: Write a NumPy program to join a sequence of arrays along a new axis"
   ]
  },
  {
   "cell_type": "code",
   "execution_count": 289,
   "metadata": {},
   "outputs": [
    {
     "name": "stdout",
     "output_type": "stream",
     "text": [
      "Original Arrays: \n",
      "[1 2 3]\n",
      "[4 5 6]\n",
      "Sequence of arrays along a new axis = 0: \n",
      "[[1 2 3]\n",
      " [4 5 6]]\n",
      "Sequence of arrays along a new axis = 1: \n",
      "[[1 4]\n",
      " [2 5]\n",
      " [3 6]]\n"
     ]
    }
   ],
   "source": [
    "arry_1 = np.arange(1,4)\n",
    "arry_2 = np.arange(4,7)\n",
    "print(\"Original Arrays: \")\n",
    "print(arry_1)\n",
    "print(arry_2)\n",
    "\n",
    "# join both the arrays in axis=0 (Horizontal)\n",
    "print(\"Sequence of arrays along a new axis = 0: \\n{}\".format(np.stack((arry_1, arry_2), axis=0)))\n",
    "# join both the arrays in axis=1(Vertical)\n",
    "print(\"Sequence of arrays along a new axis = 1: \\n{}\".format(np.stack((arry_1, arry_2),axis=1)))"
   ]
  },
  {
   "cell_type": "markdown",
   "metadata": {},
   "source": []
  }
 ],
 "metadata": {
  "kernelspec": {
   "display_name": "Python 3",
   "language": "python",
   "name": "python3"
  },
  "language_info": {
   "codemirror_mode": {
    "name": "ipython",
    "version": 3
   },
   "file_extension": ".py",
   "mimetype": "text/x-python",
   "name": "python",
   "nbconvert_exporter": "python",
   "pygments_lexer": "ipython3",
   "version": "3.8.3"
  }
 },
 "nbformat": 4,
 "nbformat_minor": 4
}
