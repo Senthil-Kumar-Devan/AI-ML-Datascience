{
 "cells": [
  {
   "cell_type": "markdown",
   "metadata": {},
   "source": [
    "# Classwork 1 - Grade your Score"
   ]
  },
  {
   "cell_type": "code",
   "execution_count": 1,
   "metadata": {},
   "outputs": [
    {
     "name": "stdout",
     "output_type": "stream",
     "text": [
      "Please enter your Score 0:95\n",
      "Please enter your Score 1:98\n",
      "Please enter your Score 2:87\n",
      "Please enter your Score 3:98\n",
      "Please enter your Score 4:99\n",
      "Your average score is 95.4. Grade A\n"
     ]
    }
   ],
   "source": [
    "        #Empty list\n",
    "        List_1=[]\n",
    "\n",
    "        #For loop to get the Scores from the user\n",
    "        for i in range(0,5):\n",
    "            Score = input(\"Please enter your Score {}:\".format(i))\n",
    "            #Append the Input scores to the List\n",
    "            List_1.append(int(Score))\n",
    "\n",
    "        #get the number of Score Appended to List\n",
    "        Number_Grade = len(List_1)\n",
    "\n",
    "        #Find Average\n",
    "        Average = sum(List_1)/Number_Grade\n",
    "\n",
    "        #validate Condition for Grades\n",
    "        if(Average >= 90):\n",
    "            print(\"Your average score is {}. \".format(Average) + \"Grade A\")\n",
    "        elif (Average >=70 and Average < 90):\n",
    "            print(\"Your average score is {}. \".format(Average) + \"Grade B\")\n",
    "        else:\n",
    "            print(\"Your average score is {}. \".format(Average) + \"Grade C\") \n",
    "        "
   ]
  },
  {
   "cell_type": "markdown",
   "metadata": {},
   "source": [
    "# Classwork 2 - Write a python program to find those numbers which are divisible by 7 and multiple of 5 between 1500 and 2700 (both included)"
   ]
  },
  {
   "cell_type": "code",
   "execution_count": 2,
   "metadata": {},
   "outputs": [
    {
     "name": "stdout",
     "output_type": "stream",
     "text": [
      "List with numbers which are divisible by 7 and multiple of 5 between 1500 and 2700 are : [1505, 1512, 1519, 1526, 1533, 1540, 1547, 1554, 1561, 1568, 1575, 1582, 1589, 1596, 1603, 1610, 1617, 1624, 1631, 1638, 1645, 1652, 1659, 1666, 1673, 1680, 1687, 1694, 1701, 1708, 1715, 1722, 1729, 1736, 1743, 1750, 1757, 1764, 1771, 1778, 1785, 1792, 1799, 1806, 1813, 1820, 1827, 1834, 1841, 1848, 1855, 1862, 1869, 1876, 1883, 1890, 1897, 1904, 1911, 1918, 1925, 1932, 1939, 1946, 1953, 1960, 1967, 1974, 1981, 1988, 1995, 2002, 2009, 2016, 2023, 2030, 2037, 2044, 2051, 2058, 2065, 2072, 2079, 2086, 2093, 2100, 2107, 2114, 2121, 2128, 2135, 2142, 2149, 2156, 2163, 2170, 2177, 2184, 2191, 2198, 2205, 2212, 2219, 2226, 2233, 2240, 2247, 2254, 2261, 2268, 2275, 2282, 2289, 2296, 2303, 2310, 2317, 2324, 2331, 2338, 2345, 2352, 2359, 2366, 2373, 2380, 2387, 2394, 2401, 2408, 2415, 2422, 2429, 2436, 2443, 2450, 2457, 2464, 2471, 2478, 2485, 2492, 2499, 2506, 2513, 2520, 2527, 2534, 2541, 2548, 2555, 2562, 2569, 2576, 2583, 2590, 2597, 2604, 2611, 2618, 2625, 2632, 2639, 2646, 2653, 2660, 2667, 2674, 2681, 2688, 2695]\n"
     ]
    }
   ],
   "source": [
    "#Empty Output list\n",
    "Output_List=[]\n",
    "\n",
    "#loop through the range 1500 to 2701\n",
    "for numbers in range(1500,2701):\n",
    "    #Check the condition divisible by 7 and multiple of 5\n",
    "    if (numbers % 7 == 0 & numbers % 5 == 0):\n",
    "        #Append to the Output list\n",
    "        Output_List.append(numbers)\n",
    "        \n",
    "print(\"List with numbers which are divisible by 7 and multiple of 5 between 1500 and 2700 are : {}\".format(Output_List))\n"
   ]
  },
  {
   "cell_type": "markdown",
   "metadata": {},
   "source": [
    "# Classwork 3 - Find Maximum of three numbers using Functions"
   ]
  },
  {
   "cell_type": "code",
   "execution_count": 3,
   "metadata": {},
   "outputs": [
    {
     "name": "stdout",
     "output_type": "stream",
     "text": [
      "9.9\n"
     ]
    },
    {
     "data": {
      "text/plain": [
       "'Function returns maximum of three numbers'"
      ]
     },
     "execution_count": 3,
     "metadata": {},
     "output_type": "execute_result"
    }
   ],
   "source": [
    "from ReUseFunction import *\n",
    "#Call function Maximum and pass the required 3 parameters\n",
    "print(maximum(8,3.7689,9.9))\n",
    "\n",
    "maximum.__doc__"
   ]
  },
  {
   "cell_type": "markdown",
   "metadata": {},
   "source": [
    "# Classwork 4 - Draw a Pyramid using Funtions"
   ]
  },
  {
   "cell_type": "code",
   "execution_count": 4,
   "metadata": {},
   "outputs": [
    {
     "name": "stdout",
     "output_type": "stream",
     "text": [
      "Provide the maximum height of the Pyramid to be built : 8\n",
      "*\n",
      "**\n",
      "***\n",
      "****\n",
      "*****\n",
      "******\n",
      "*******\n",
      "********\n",
      "*******\n",
      "******\n",
      "*****\n",
      "****\n",
      "***\n",
      "**\n",
      "*\n"
     ]
    }
   ],
   "source": [
    "from ReUseFunction import *\n",
    "#Get the height of the Pyramid from the User\n",
    "height= input(\"Provide the maximum height of the Pyramid to be built : \")\n",
    "\n",
    "#Call function StarPyramid and pass the required height of the Pyramid as the height\n",
    "StarPyramid(int(height))\n",
    "\n",
    "#StarPyramid.__doc__"
   ]
  },
  {
   "cell_type": "markdown",
   "metadata": {},
   "source": [
    "# Excercise - Day 3"
   ]
  },
  {
   "cell_type": "markdown",
   "metadata": {},
   "source": [
    "# 1. Write a Python program to count the number of even and odd numbers from a series of numbers.\n",
    "#Number of even numbers : 4\n",
    "#Number of odd numbers : 5"
   ]
  },
  {
   "cell_type": "code",
   "execution_count": 5,
   "metadata": {},
   "outputs": [
    {
     "name": "stdout",
     "output_type": "stream",
     "text": [
      "Number of Even numbers in Series is : 4\n",
      "Number of Odd numbers in Series is : 5\n"
     ]
    },
    {
     "data": {
      "text/plain": [
       "'Function returns Even/ Odd number count'"
      ]
     },
     "execution_count": 5,
     "metadata": {},
     "output_type": "execute_result"
    }
   ],
   "source": [
    "from ReUseFunction import *\n",
    "\n",
    "\n",
    "\n",
    "#Sample Number Series\n",
    "Number_Series = [1,2,3,4,5,6,7,8,9]\n",
    "\n",
    "print(\"Number of Even numbers in Series is : {}\".format(Even_Odd_Counter_Seperator(Number_Series)[0]))\n",
    "print(\"Number of Odd numbers in Series is : {}\".format(Even_Odd_Counter_Seperator(Number_Series)[1]))\n",
    "\n",
    "Even_Odd_Counter_Seperator.__doc__"
   ]
  },
  {
   "cell_type": "markdown",
   "metadata": {},
   "source": [
    "# 2. Write a Python program to find numbers between 100 and 400 (both included) where each digit of a number is an even number. The numbers obtained should be printed in a comma-separated sequence"
   ]
  },
  {
   "cell_type": "code",
   "execution_count": 6,
   "metadata": {
    "scrolled": true
   },
   "outputs": [
    {
     "name": "stdout",
     "output_type": "stream",
     "text": [
      "200,202,204,206,208,220,222,224,226,228,240,242,244,246,248,260,262,264,266,268,280,282,284,286,288,400,\n"
     ]
    },
    {
     "data": {
      "text/plain": [
       "'Find Even number from the Range of Number series'"
      ]
     },
     "execution_count": 6,
     "metadata": {},
     "output_type": "execute_result"
    }
   ],
   "source": [
    "from ReUseFunction import *\n",
    "\n",
    "print(Find_digit_of_number_is_even_number_from_Number_Range(100, 401))\n",
    "\n",
    "Find_digit_of_number_is_even_number_from_Number_Range.__doc__"
   ]
  },
  {
   "cell_type": "markdown",
   "metadata": {},
   "source": [
    "# 3. Write a Python program to calculate a dog's age in dog's years. Go to the editor\n",
    "Note: For the first two years, a dog year is equal to 10.5 human years. After that, each dog year equals 4 human years."
   ]
  },
  {
   "cell_type": "code",
   "execution_count": 7,
   "metadata": {},
   "outputs": [
    {
     "name": "stdout",
     "output_type": "stream",
     "text": [
      "Input a dog's age in human years: 20\n",
      "The dog's age in dog's years is 93.0\n"
     ]
    }
   ],
   "source": [
    "from ReUseFunction import *\n",
    "#get the input Input a dog's age in human years from user\n",
    "Human_age = input(\"Input a dog's age in human years: \")\n",
    "\n",
    "#Call function Find_dogs_age_in_dogs_years with Human Age as input parameter\n",
    "print(\"The dog's age in dog's years is {}\".format(Find_dogs_age_in_dogs_years(Human_age)))"
   ]
  },
  {
   "cell_type": "markdown",
   "metadata": {},
   "source": [
    "# 4. Write a Python function that takes a number as a parameter and check the number is prime or not."
   ]
  },
  {
   "cell_type": "code",
   "execution_count": 8,
   "metadata": {},
   "outputs": [
    {
     "name": "stdout",
     "output_type": "stream",
     "text": [
      "Enter number to validate prime or not: 13\n",
      "13 is a Prime Number\n"
     ]
    }
   ],
   "source": [
    "from ReUseFunction import *\n",
    "\n",
    "number = int(input(\"Enter number to validate prime or not: \"))\n",
    "\n",
    "prime_flag = Find_Prime_or_not(number)\n",
    "\n",
    "if (prime_flag):\n",
    "    print (\"{} is a Prime Number\".format(number))\n",
    "else:\n",
    "    print (\"{} is NOT a Prime Number\".format(number))\n"
   ]
  },
  {
   "cell_type": "markdown",
   "metadata": {},
   "source": [
    "# 5. Write a Python function that accepts a string and calculate the number of upper case letters and lower case letters. Go to the editor"
   ]
  },
  {
   "cell_type": "code",
   "execution_count": 9,
   "metadata": {},
   "outputs": [
    {
     "name": "stdout",
     "output_type": "stream",
     "text": [
      "Original String : Inceptz is One of The BeSt Places TO LEarn DataSciEnce \n",
      "No. of Upper case characters : 13 \n",
      "No. of Lower case characters : 32\n"
     ]
    }
   ],
   "source": [
    "#Initialize the variables\n",
    "Original_String = \"Inceptz is One of The BeSt Places TO LEarn DataSciEnce\"\n",
    "upper_count = 0\n",
    "lower_count = 0\n",
    "\n",
    "#Loop through the Original String and count Upper and Lower Case characters\n",
    "for char in Original_String:\n",
    "    if char.isupper():\n",
    "        upper_count = upper_count + 1\n",
    "    elif char.islower():\n",
    "        lower_count = lower_count + 1\n",
    "        \n",
    "# Use a single Print statement to print all the required information. \\n for next line\n",
    "print(\"Original String : \" + Original_String, \"\\n\"+\"No. of Upper case characters : \" + str(upper_count),\"\\n\"+\"No. of Lower case characters : \" + str(lower_count))"
   ]
  },
  {
   "cell_type": "markdown",
   "metadata": {},
   "source": [
    "# 6. Write a Python program to reverse a string."
   ]
  },
  {
   "cell_type": "code",
   "execution_count": 10,
   "metadata": {},
   "outputs": [
    {
     "name": "stdout",
     "output_type": "stream",
     "text": [
      "The original string is: SenthiL KumaR\n",
      "The reversed string: RamuK LihtneS\n"
     ]
    }
   ],
   "source": [
    "#Get String from User\n",
    "Input_String = input(\"The original string is: \")\n",
    "\n",
    "rev_string = \"\"\n",
    "\n",
    "inp_list = list(Input_String)\n",
    "inp_list.reverse()\n",
    "\n",
    "#Loop through the Original String and reverse them\n",
    "for char in inp_list:    \n",
    "    rev_string = rev_string + char\n",
    "\n",
    "print(\"The reversed string: \" + rev_string)  \n",
    "\n"
   ]
  },
  {
   "cell_type": "markdown",
   "metadata": {},
   "source": [
    "# 7. Write a Python program to find the greatest common divisor (gcd) of two integers."
   ]
  },
  {
   "cell_type": "code",
   "execution_count": 11,
   "metadata": {},
   "outputs": [
    {
     "name": "stdout",
     "output_type": "stream",
     "text": [
      "Input first number: 12\n",
      "Input second number: 14\n",
      "\n",
      "The two numbers are: (12, 14) \n",
      "The GCD of the numbers are: 2\n"
     ]
    }
   ],
   "source": [
    "from ReUseFunction import *\n",
    "\n",
    "number1 = int(input(\"Input first number: \"))\n",
    "number2 = int(input(\"Input second number: \"))\n",
    "\n",
    "print(\"\\n\"+\"The two numbers are: ({}, {})\".format(number1, number2), \"\\n\" + \"The GCD of the numbers are: \" + str(GCD(number1, number2)))\n",
    "\n"
   ]
  }
 ],
 "metadata": {
  "kernelspec": {
   "display_name": "Python 3",
   "language": "python",
   "name": "python3"
  },
  "language_info": {
   "codemirror_mode": {
    "name": "ipython",
    "version": 3
   },
   "file_extension": ".py",
   "mimetype": "text/x-python",
   "name": "python",
   "nbconvert_exporter": "python",
   "pygments_lexer": "ipython3",
   "version": "3.8.3"
  }
 },
 "nbformat": 4,
 "nbformat_minor": 4
}
