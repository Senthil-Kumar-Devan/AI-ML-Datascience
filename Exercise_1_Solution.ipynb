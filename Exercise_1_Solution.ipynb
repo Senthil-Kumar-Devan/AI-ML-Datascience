{
 "cells": [
  {
   "cell_type": "markdown",
   "metadata": {},
   "source": [
    "# Create a new List using existing list\n",
    "#If we change an element in New List the existing List element also changes\n",
    "#How to change the new list without affecting the Existing list"
   ]
  },
  {
   "cell_type": "code",
   "execution_count": 70,
   "metadata": {},
   "outputs": [
    {
     "name": "stdout",
     "output_type": "stream",
     "text": [
      "original List:  [1, 2, 3, 4, 5]\n",
      "After Assignment of List_1 to List_2:  [1, 2, 3, 4, 5]\n",
      "After replacement of element in List_2: List_1 =  (1, 2, 3, 4, 5)\n",
      "After replacement of element in List_2: List_1 =  [1, 6, 3, 4, 5]\n"
     ]
    }
   ],
   "source": [
    "#List_1 created as List\n",
    "List_1 = [1,2,3,4,5]\n",
    "\n",
    "#Use Copy function instead\n",
    "\n",
    "#Assign List_1 to List_2\n",
    "List_2 = List_1\n",
    "\n",
    "print(\"original List: \", List_1)\n",
    "print(\"After Assignment of List_1 to List_2: \", List_2)\n",
    "\n",
    "#Typecast List_1 to Tuple, so that List of values in List_1 are Immutable\n",
    "List_1 = tuple(List_1)\n",
    "\n",
    "#Replace Element at index 1 to value 6\n",
    "List_2[1] = 6\n",
    "\n",
    "#Print Both Lists\n",
    "print(\"After replacement of element in List_2: List_1 = \",List_1)\n",
    "print(\"After replacement of element in List_2: List_1 = \",List_2)"
   ]
  },
  {
   "cell_type": "markdown",
   "metadata": {},
   "source": [
    "# Exercise Question 1: Given an input list removes the element at index 4 and add it to the 2nd position and also, at the end of the list\n",
    "\n",
    "Original list  [34, 54, 67, 89, 11, 43, 94]\n",
    "List After removing element at index 4  [34, 54, 67, 89, 43, 94]\n",
    "List after Adding element at index 2  [34, 54, 11, 67, 89, 43, 94]\n",
    "List after Adding element at last  [34, 54, 11, 67, 89, 43, 94, 11]"
   ]
  },
  {
   "cell_type": "code",
   "execution_count": 6,
   "metadata": {},
   "outputs": [
    {
     "name": "stdout",
     "output_type": "stream",
     "text": [
      "Original list  [34, 54, 67, 89, 11, 43, 94]\n",
      "List After removing element at index 4  [34, 54, 67, 89, 43, 94]\n",
      "List after Adding element at index 2  [34, 54, 11, 67, 89, 43, 94]\n",
      "List after Adding element at last  [34, 54, 11, 67, 89, 43, 94, 11]\n"
     ]
    }
   ],
   "source": [
    "# Input List\n",
    "inp_List_1 = [34, 54, 67, 89, 11, 43, 94]\n",
    "print('Original list ',inp_List_1)\n",
    "#Store Element at Index 4 before removing from the list\n",
    "storeElem = inp_List_1[4]\n",
    "\n",
    "#Remove the element from Index 4\n",
    "inp_List_1.pop(4)\n",
    "print('List After removing element at index 4 ',inp_List_1)\n",
    "\n",
    "#Insert the Stored Element at Position 2\n",
    "inp_List_1.insert(2,storeElem)\n",
    "print('List after Adding element at index 2 ',inp_List_1)\n",
    "\n",
    "#Add Stored Element to the Last Index\n",
    "inp_List_1.append(storeElem)\n",
    "print('List after Adding element at last ',inp_List_1)"
   ]
  },
  {
   "cell_type": "markdown",
   "metadata": {},
   "source": [
    "# Exercise Question 2: Given a Python list you should be able to display Python list in the following order\n",
    "\n",
    "\n",
    "The Original List is: [100, 200, 300, 400, 500]\n",
    "The Expected result is:  [500, 400, 300, 200, 100]"
   ]
  },
  {
   "cell_type": "code",
   "execution_count": 9,
   "metadata": {},
   "outputs": [
    {
     "name": "stdout",
     "output_type": "stream",
     "text": [
      "The Original List is:  [100, 200, 300, 400, 500]\n",
      "The Expected result is:  [500, 400, 300, 200, 100]\n"
     ]
    }
   ],
   "source": [
    "#Input list\n",
    "inp_List_2 = [100, 200, 300, 400, 500]\n",
    "print('The Original List is: ',inp_List_2)\n",
    "\n",
    "#Reverse the input list\n",
    "inp_List_2.reverse()\n",
    "print('The Expected result is: ',inp_List_2)"
   ]
  },
  {
   "cell_type": "markdown",
   "metadata": {},
   "source": [
    "# Exercise Question 3: Concatenate (join) two lists in the following order#\n",
    "\n",
    "The original list1: ['Hello ', 'take ']\n",
    "The original list2: ['Dear', 'Sir']\n",
    "The Expected result is: ['Hello ', 'take ', 'Dear', 'Sir']"
   ]
  },
  {
   "cell_type": "code",
   "execution_count": 20,
   "metadata": {},
   "outputs": [
    {
     "name": "stdout",
     "output_type": "stream",
     "text": [
      "The original list1:  ['Hello ', 'take ']\n",
      "The original list2:  ['Dear', 'Sir']\n",
      "The Expected result is:  ['Hello ', 'take ', 'Dear', 'Sir']\n"
     ]
    }
   ],
   "source": [
    "#list 1\n",
    "inp_List3_1 = ['Hello ', 'take ']\n",
    "print('The original list1: ', inp_List3_1)\n",
    "\n",
    "#List 2\n",
    "inp_List3_2 =  ['Dear', 'Sir']\n",
    "print('The original list2: ', inp_List3_2)\n",
    "\n",
    "#Concatenate two list using extend function\n",
    "inp_List3_1.extend(inp_List3_2)\n",
    "print('The Expected result is: ', inp_List3_1)"
   ]
  },
  {
   "cell_type": "markdown",
   "metadata": {},
   "source": [
    "# Exercise Question 4: Add item 7000 after 6000 in the following Python List\n",
    "#The original list is: [10, 20, [300, 400, [5000, 6000], 500], 30, 40]\n",
    "#The expected list is: [10, 20, [300, 400, [5000, 6000, 7000], 500], 30, 40]"
   ]
  },
  {
   "cell_type": "code",
   "execution_count": 34,
   "metadata": {},
   "outputs": [
    {
     "name": "stdout",
     "output_type": "stream",
     "text": [
      "The original list is:  [10, 20, [300, 400, [5000, 6000], 500], 30, 40]\n",
      "Extarcted element at index 2:  [5000, 6000]\n",
      "The expected list is:  [10, 20, [300, 400, [5000, 6000, 7000], 500], 30, 40]\n"
     ]
    }
   ],
   "source": [
    "#input List\n",
    "inp_List_4 =  [10, 20, [300, 400, [5000, 6000], 500], 30, 40]\n",
    "print ('The original list is: ', inp_List_4)\n",
    "\n",
    "#get the nested List Element at Index 2, 2\n",
    "inp_List_4[2][2]\n",
    "print ('Extarcted element at index 2: ', inp_List_4[2][2])\n",
    "\n",
    "#Append 7000 to the Nested list\n",
    "inp_List_4[2][2].append(7000)\n",
    "print ('The expected list is: ', inp_List_4)"
   ]
  },
  {
   "cell_type": "markdown",
   "metadata": {},
   "source": [
    "# Exercise Question 5: Given a nested list extend it with adding sub list [\"h\", \"i\", \"j\"] in a such a way that it will look like the\n",
    "\n",
    "#The original List is: ['a', 'b', ['c', ['d', 'e', ['f', 'g'], 'k'], 'l'], 'm', 'n']\n",
    "#The expected result is: ['a', 'b', ['c', ['d', 'e', ['f', 'g', 'h', 'i', 'j'], 'k'], 'l'], 'm', 'n']"
   ]
  },
  {
   "cell_type": "code",
   "execution_count": 43,
   "metadata": {},
   "outputs": [
    {
     "name": "stdout",
     "output_type": "stream",
     "text": [
      "The original List is:  ['a', 'b', ['c', ['d', 'e', ['f', 'g'], 'k'], 'l'], 'm', 'n']\n",
      "Traverse to Nested List at [2][1][2]:  ['f', 'g']\n",
      "The expected result is:  ['a', 'b', ['c', ['d', 'e', ['f', 'g', 'h', 'i', 'j'], 'k'], 'l'], 'm', 'n']\n"
     ]
    }
   ],
   "source": [
    "#input list\n",
    "inp_List_5 = ['a', 'b', ['c', ['d', 'e', ['f', 'g'], 'k'], 'l'], 'm', 'n']\n",
    "print('The original List is: ', inp_List_5)\n",
    "\n",
    "#Sublist to be added\n",
    "inp_List_5_1 = [\"h\", \"i\", \"j\"]\n",
    "\n",
    "#Traverse to nested list [2][1][2]\n",
    "print('Traverse to Nested List at [2][1][2]: ', inp_List_5[2][1][2])\n",
    "\n",
    "#add the Sublist to the traversed nested List\n",
    "inp_List_5[2][1][2].extend(inp_List_5_1)\n",
    "print('The expected result is: ',inp_List_5)"
   ]
  },
  {
   "cell_type": "markdown",
   "metadata": {},
   "source": [
    "# Exercise Question 6: Given a Python list, find value 20 in the list, and if it is present, replace it with 200. Only update the first occurrence of a value\n",
    "#The original list is: [5, 10, 15, 20, 25, 50, 20]\n",
    "#The expected output is: [5, 10, 15, 200, 25, 50, 20]"
   ]
  },
  {
   "cell_type": "code",
   "execution_count": 68,
   "metadata": {},
   "outputs": [
    {
     "name": "stdout",
     "output_type": "stream",
     "text": [
      "The original list is:  [5, 10, 15, 20, 25, 50, 20]\n",
      "The expected output is:  [5, 10, 15, 200, 25, 50, 20]\n"
     ]
    }
   ],
   "source": [
    "#input list\n",
    "inp_List_6 = [5, 10, 15, 20, 25, 50, 20]\n",
    "print ('The original list is: ', inp_List_6)\n",
    "\n",
    "index_1 = inp_List_6.index(20)\n",
    "inp_List_6[index_1]\n",
    "\n",
    "\n",
    "\n",
    "\n",
    "#Find value 20 in the list\n",
    "for elem in inp_List_6:\n",
    "    if elem == 20:\n",
    "        \n",
    "        print('Element with value 20: ', elem)\n",
    "        print('index: ', inp_List_6.index(elem))\n",
    "\n",
    "        #Replace the first occurance of element with value 20 with 200\n",
    "        inp_List_6[inp_List_6.index(elem)]=200\n",
    "        break\n",
    "        \n",
    "## The 20 occuring 2nd after the Index always points to the first why??????\n",
    "    else:\n",
    "        print('Other Elements: ', elem)\n",
    "        print('index: ', inp_List_6.index(elem)) \n",
    "        \n",
    "        \n",
    "print('The expected output is: ',inp_List_6)\n",
    "\n"
   ]
  },
  {
   "cell_type": "code",
   "execution_count": 1,
   "metadata": {},
   "outputs": [
    {
     "data": {
      "text/plain": [
       "'i love india'"
      ]
     },
     "execution_count": 1,
     "metadata": {},
     "output_type": "execute_result"
    }
   ],
   "source": [
    "review = \" i love    india     \"\n",
    "\" \".join(review.split())"
   ]
  },
  {
   "cell_type": "code",
   "execution_count": 2,
   "metadata": {},
   "outputs": [
    {
     "name": "stdout",
     "output_type": "stream",
     "text": [
      "to 3 decimal point 1.659\n"
     ]
    }
   ],
   "source": [
    "num=1.658787\n",
    "print(\"to 3 decimal point {:.3f}\".format(num))"
   ]
  },
  {
   "cell_type": "code",
   "execution_count": 10,
   "metadata": {},
   "outputs": [
    {
     "name": "stdout",
     "output_type": "stream",
     "text": [
      "true\n",
      "good\n"
     ]
    }
   ],
   "source": [
    "if True:\n",
    "    print(\"true\")\n",
    "    print(\"good\")\n",
    "else:\n",
    "    print(\"bad\")"
   ]
  },
  {
   "cell_type": "code",
   "execution_count": 22,
   "metadata": {},
   "outputs": [
    {
     "name": "stdout",
     "output_type": "stream",
     "text": [
      "Please enter you Score: 92\n",
      "Your grade is A\n"
     ]
    }
   ],
   "source": [
    "Score = int(input(\"Please enter you Score: \"))\n",
    "#Check if score >=90\n",
    "if Score >= 90:\n",
    "    print(\"Your grade is A\")\n",
    "#Check if score >=70 and below 90\n",
    "elif (Score >= 70 and Score < 90):\n",
    "     print(\"Your grade is B\")\n",
    "#for any other scores\n",
    "else:\n",
    "     print(\"Your grade is C\")\n"
   ]
  },
  {
   "cell_type": "code",
   "execution_count": null,
   "metadata": {},
   "outputs": [],
   "source": []
  }
 ],
 "metadata": {
  "kernelspec": {
   "display_name": "Python 3",
   "language": "python",
   "name": "python3"
  },
  "language_info": {
   "codemirror_mode": {
    "name": "ipython",
    "version": 3
   },
   "file_extension": ".py",
   "mimetype": "text/x-python",
   "name": "python",
   "nbconvert_exporter": "python",
   "pygments_lexer": "ipython3",
   "version": "3.8.3"
  }
 },
 "nbformat": 4,
 "nbformat_minor": 4
}
